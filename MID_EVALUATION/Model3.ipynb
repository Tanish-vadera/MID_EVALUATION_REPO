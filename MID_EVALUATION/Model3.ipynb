{
 "cells": [
  {
   "cell_type": "code",
   "execution_count": 73,
   "metadata": {},
   "outputs": [],
   "source": [
    "import numpy as np\n",
    "import pandas as pd\n",
    "import os\n",
    "import torch\n",
    "import pickle  # Import the pickle module\n",
    "from transformers import DistilBertTokenizer, DistilBertModel\n",
    "from sklearn.model_selection import train_test_split\n",
    "from sklearn.linear_model import LogisticRegression\n",
    "from sklearn.metrics import classification_report"
   ]
  },
  {
   "cell_type": "code",
   "execution_count": 74,
   "metadata": {},
   "outputs": [],
   "source": [
    "# Load all CSV files from the specified folder\n",
    "def load_all_data(folder_path):\n",
    "    all_data = []\n",
    "    for filename in os.listdir(folder_path):\n",
    "        if filename.endswith('.csv'):\n",
    "            file_path = os.path.join(folder_path, filename)\n",
    "            df = pd.read_csv(file_path)\n",
    "            # Convert price-related columns to numeric, coerce errors to handle invalid data\n",
    "            df['discount_price'] = pd.to_numeric(df['discount_price'], errors='coerce')\n",
    "            df['actual_price'] = pd.to_numeric(df['actual_price'], errors='coerce')\n",
    "            all_data.append(df)\n",
    "    return pd.concat(all_data, ignore_index=True)"
   ]
  },
  {
   "cell_type": "code",
   "execution_count": 75,
   "metadata": {},
   "outputs": [],
   "source": [
    "# Function to get DistilBERT embeddings\n",
    "def get_embeddings(data, tokenizer, model):\n",
    "    embeddings = []\n",
    "    for desc in data['name']:  # Assuming 'name' or other descriptive fields are available\n",
    "        inputs = tokenizer(desc, return_tensors='pt', padding=True, truncation=True)\n",
    "        with torch.no_grad():\n",
    "            outputs = model(**inputs)\n",
    "        embeddings.append(outputs.last_hidden_state[:, 0, :].numpy())  # Use [CLS] token\n",
    "    return np.vstack(embeddings)  # Stack all embeddings into a numpy array"
   ]
  },
  {
   "cell_type": "code",
   "execution_count": 76,
   "metadata": {},
   "outputs": [],
   "source": [
    "# Train a simple model for product recommendation\n",
    "def train_model(data, embeddings):\n",
    "    # Convert embeddings to a numpy array if not already done\n",
    "    embeddings = np.array(embeddings)\n",
    "\n",
    "    # Train-test split\n",
    "    X_train, X_test, y_train, y_test = train_test_split(embeddings, data['main_category'], test_size=0.2)\n",
    "\n",
    "    # Logistic Regression model training\n",
    "    model = LogisticRegression(max_iter=1000)\n",
    "    \n",
    "    # Reshape the embeddings and train the model\n",
    "    model.fit(X_train, y_train)\n",
    "\n",
    "    # Evaluate model\n",
    "    predictions = model.predict(X_test)\n",
    "    print(classification_report(y_test, predictions))\n",
    "\n",
    "    return model"
   ]
  },
  {
   "cell_type": "code",
   "execution_count": 77,
   "metadata": {},
   "outputs": [],
   "source": [
    "def recommend_gifts(model, data, gender, age, relationship, budget, tokenizer, bert_model):\n",
    "    # Creating a dummy input based on user preferences\n",
    "    user_input = f\"{gender} {age} {relationship} {budget}\"\n",
    "    user_embedding = tokenizer(user_input, return_tensors='pt', padding=True, truncation=True)\n",
    "    \n",
    "    with torch.no_grad():\n",
    "        user_embeds = bert_model(**user_embedding).last_hidden_state[:, 0, :].numpy()  # Use [CLS] token\n",
    "    \n",
    "    # Predict categories for the user's inputs\n",
    "    predicted_category = model.predict(user_embeds.reshape(1, -1))[0]\n",
    "    \n",
    "    # Filter recommended gifts based on predicted category and budget\n",
    "    recommended_gifts = data[(data['main_category'] == predicted_category) & (data['discount_price'] <= budget)]\n",
    "    #-----------------------------------------------------\n",
    "    \n",
    "    return recommended_gifts"
   ]
  },
  {
   "cell_type": "code",
   "execution_count": 78,
   "metadata": {},
   "outputs": [
    {
     "name": "stderr",
     "output_type": "stream",
     "text": [
      "<>:2: SyntaxWarning: invalid escape sequence '\\g'\n",
      "<>:2: SyntaxWarning: invalid escape sequence '\\g'\n",
      "C:\\Users\\Shubham Prajapati.LAPTOP-OVUQKEGP\\AppData\\Local\\Temp\\ipykernel_26168\\4189375586.py:2: SyntaxWarning: invalid escape sequence '\\g'\n",
      "  folder_path = 'D:\\gift_recomm\\Temp_dtst'  # Update with your actual path\n"
     ]
    }
   ],
   "source": [
    "def main():\n",
    "    folder_path = 'D:\\gift_recomm\\Temp_dtst'  # Update with your actual path\n",
    "    data = load_all_data(folder_path)\n",
    "    # print(\"DATA\",data)\n",
    "\n",
    "    # Initialize DistilBERT tokenizer and model\n",
    "    tokenizer = DistilBertTokenizer.from_pretrained('distilbert-base-uncased')\n",
    "    bert_model = DistilBertModel.from_pretrained('distilbert-base-uncased')\n",
    "\n",
    "    # Get embeddings for products\n",
    "    embeddings = get_embeddings(data, tokenizer, bert_model)\n",
    "    \n",
    "    # Train the model on product embeddings\n",
    "    trained_model = train_model(data, embeddings)\n",
    "\n",
    "    with open('trained_model.pkl', 'wb') as f:\n",
    "        pickle.dump(trained_model, f)\n",
    "    with open('item_embeddings.pkl', 'wb') as f:\n",
    "        pickle.dump(embeddings, f)\n",
    "\n",
    "    # Get user input\n",
    "    print(\"Welcome to the Gift Recommendation System!\")\n",
    "    \n",
    "    recipient_gender = input(\"Enter recipient's gender (male/female): \").strip().lower()\n",
    "    recipient_age = int(input(\"Enter recipient's age: \").strip())\n",
    "    relation_with_recipient = input(\"Enter your relation with the recipient (friend/family/etc.): \").strip().lower()\n",
    "    user_budget = float(input(\"Enter your budget: \").strip())\n",
    "\n",
    "    # Get recommendations\n",
    "    recommended_gifts = recommend_gifts(trained_model, data, recipient_gender, recipient_age, relation_with_recipient, user_budget, tokenizer, bert_model)\n",
    "\n",
    "    # Display recommendations\n",
    "    if not recommended_gifts.empty:\n",
    "        print(\"\\nRecommended Gifts:\")\n",
    "        for index, row in recommended_gifts.iterrows():\n",
    "            if index < 5:\n",
    "                print(f\"\\n\\nName: {row['name']}, \\nCategory: {row['main_category']}, \\nPrice: ${row['discount_price']:.2f}, \\nImage:{row['image']}, \\nLink: {row['link']}\")\n",
    "            else:\n",
    "                break\n",
    "    else:\n",
    "        print(\"No gifts found that match your criteria.\")"
   ]
  },
  {
   "cell_type": "code",
   "execution_count": 79,
   "metadata": {},
   "outputs": [],
   "source": [
    "from sklearn.model_selection import train_test_split\n",
    "from sklearn.linear_model import LogisticRegression\n",
    "\n",
    "def train_model(data, embeddings):\n",
    "    # Get the target column ('main_category')\n",
    "    categories = data['main_category'].unique()\n",
    "    \n",
    "    # Check if there are at least two unique categories\n",
    "    if len(categories) < 2:\n",
    "        raise ValueError(f\"Not enough classes to train the model. Only one class found: {categories[0]}\")\n",
    "    \n",
    "    # Proceed if we have more than one class\n",
    "    X_train, X_test, y_train, y_test = train_test_split(embeddings, data['main_category'], test_size=0.2)\n",
    "    model = LogisticRegression(max_iter=1000)\n",
    "\n",
    "\n",
    "    # Reshape the embeddings and train the model\n",
    "    model.fit(X_train, y_train)\n",
    "    \n",
    "    # Evaluate model\n",
    "    predictions = model.predict(X_test)\n",
    "    \n",
    "    return model\n"
   ]
  },
  {
   "cell_type": "code",
   "execution_count": 80,
   "metadata": {},
   "outputs": [
    {
     "name": "stdout",
     "output_type": "stream",
     "text": [
      "Welcome to the Gift Recommendation System!\n",
      "\n",
      "Recommended Gifts:\n",
      "\n",
      "\n",
      "Name: Skybags Brat Black 46 Cms Casual Backpack, \n",
      "Category: bags & luggage, \n",
      "Price: $659.00, \n",
      "Image:https://m.media-amazon.com/images/I/810s53kR8tL._AC_UL320_.jpg, \n",
      "Link: https://www.amazon.in/Skybags-Brat-Black-Casual-Backpack/dp/B08Z1HHHTD/ref=sr_1_1?qid=1679218544&s=luggage&sr=1-1\n",
      "\n",
      "\n",
      "Name: SAFARI 15 Ltrs Sea Blue Casual/School/College Backpack (DAYPACKNEO15CBSEB), \n",
      "Category: bags & luggage, \n",
      "Price: $299.00, \n",
      "Image:https://m.media-amazon.com/images/I/61kmCas5OCL._AC_UL320_.jpg, \n",
      "Link: https://www.amazon.in/SAFARI-Ltrs-Casual-Backpack-DAYPACKNEO15CBSEB/dp/B07Q7CNPMV/ref=sr_1_2?qid=1679218544&s=luggage&sr=1-2\n",
      "\n",
      "\n",
      "Name: Wesley Milestone 2.0 Casual Waterproof Laptop Backpack/Office Bag/School Bag/College Bag/Business Bag/Travel Backpack (Dim..., \n",
      "Category: bags & luggage, \n",
      "Price: $565.00, \n",
      "Image:https://m.media-amazon.com/images/I/811AxL+qTpL._AC_UL320_.jpg, \n",
      "Link: https://www.amazon.in/Wesley-Milestone-Waterproof-Backpack-Business/dp/B084JGJ8PF/ref=sr_1_3?qid=1679218544&s=luggage&sr=1-3\n",
      "\n",
      "\n",
      "Name: Genie Iridescence School Bag for Girls, 17 inch Backpack for Women, 3 compartments Water Resistant Stylish and Trendy Coll..., \n",
      "Category: bags & luggage, \n",
      "Price: $899.00, \n",
      "Image:https://m.media-amazon.com/images/I/71HWNZIjMvL._AC_UL320_.jpg, \n",
      "Link: https://www.amazon.in/Genie-Iridescence-Multicolor-Backpack-Resistant/dp/B084VQLJL8/ref=sr_1_5?qid=1679218544&s=luggage&sr=1-5\n"
     ]
    }
   ],
   "source": [
    "if __name__ == \"__main__\":\n",
    "    main()"
   ]
  },
  {
   "cell_type": "code",
   "execution_count": null,
   "metadata": {},
   "outputs": [],
   "source": []
  }
 ],
 "metadata": {
  "kernelspec": {
   "display_name": "Python 3",
   "language": "python",
   "name": "python3"
  },
  "language_info": {
   "codemirror_mode": {
    "name": "ipython",
    "version": 3
   },
   "file_extension": ".py",
   "mimetype": "text/x-python",
   "name": "python",
   "nbconvert_exporter": "python",
   "pygments_lexer": "ipython3",
   "version": "3.12.5"
  }
 },
 "nbformat": 4,
 "nbformat_minor": 2
}
